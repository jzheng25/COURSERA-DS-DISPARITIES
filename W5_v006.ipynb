{
 "cells": [
  {
   "cell_type": "markdown",
   "id": "cbadc2a8-eae7-4fb7-800b-cc8282b56a3b",
   "metadata": {},
   "source": [
    "# Capstone Project - Exploring Social Disparities across Neighborhoods in Chicago\n",
    "Applied Data Science Capstone by IBM/Coursera - Jun 2021 by Junjun Zheng"
   ]
  },
  {
   "cell_type": "markdown",
   "id": "c9c2a652-5539-4578-a3cd-a2cdb4b94285",
   "metadata": {},
   "source": [
    "## INTRODUCTION\n",
    "Urban areas would accommodate over 70% world population by 2050. Modern cities are organized to effectively build out civic infrastructure and efficiently deliver necessary public services. However, there are growing concerns of social inequality that urban residents may have inequitable access to infrastructure and services depending on where they live. \n",
    "\n",
    "Social injustice results in imbalanced economic development and contributes to gaps in quality of life across urban neighborhoods. Yet, despite increasing awareness toward social inequity, quantitative assessments for such social disparities are still lagging. This situation becomes the barrier to sustainable development, and inadequate understanding of the underlying conditions hinders strategic urban planning for potential implications.\n",
    "\n",
    "This study deploys data science toolkits to explore social disparities across neighborhoods. The study develops a novel framework by integrating diverse analytic approaches. The numerical analysis quantifies the relationship among various neighborhood characteristics, including household income, spatial clusters, and land uses. Therefore, this study bridges the neighborhood’s socioeconomic factors with the infrastructure and built environments, aiming to provide nuances to equitable community investment and place-based development initiatives.\n"
   ]
  },
  {
   "cell_type": "markdown",
   "id": "0f2e2a4b-a637-42cb-8be0-7ced115bf3aa",
   "metadata": {},
   "source": [
    "## DATA AND METHODS\n",
    "The numerical analysis takes the city of Chicago as the case study area. Chicago consists of 56 zip codes (neighborhoods), which is the unit of analysis in this study. Based on the existing projects and studies, the zip code is one of the best scales to analyze the spatial heterogeneities within a city.    \n",
    "\n",
    "### Data Acquisition and Cleaning\n",
    "By looking at zip codes, this study collects data from diverse sources. The base map consists of the polygons of all Chicago zip codes in a shapefile . On the one hand, median household income (MHI of each zip code) is the proxy for socioeconomic factors. U.S. Census provides the data under American Community Survey (2019, 5-year estimates). \n",
    "\n",
    "On the other hand, Foursquare location data are collected for quantifying neighborhood land uses. First, all Chicago zip codes are indexed to their centroid based on the latitudes and longitudes of the polygons. Then, this study collects all venues within 800 meters of each neighborhood centroid by using Foursquare API, which results in 5,375 venues that meet the requirement. \n",
    "\n",
    "However, these over 5000 venues have 423 unique categories, which are too detailed to categorize neighborhood land-use patterns. For example, the restaurants and food-service outlets have been categorized into over 30 categories: American, Chinese, Japanese, etc. A data cleaning process is needed for further analysis. Hence, this study pulls out over 400 unique categories and crosswalks them to ten (10) major categories.\n",
    " \n",
    "The crosswalk data (provided in data files) reduces the dimensions of the original dataset and helps improve the efficiency and accuracy of the analysis. \n",
    "Furthermore, over 5000 venues are aggregated into 56 zip codes by the ten business categories. This calculates the shares of each business category against total businesses for each zip code. For example, the “Offices” under the zip code “60610” is 0.5163, indicating 51.63% of businesses within this zip code are offices. As a result, the data consist of land use patterns for all Chicago zip codes.\n",
    "Once all data are collected and cleaned, this study integrates a dataset by merging the socioeconomic variable with the land use data. The final dataset includes variables of geometries, median household income (MHI), and land use shares (for ten major categories).\n"
   ]
  },
  {
   "cell_type": "code",
   "execution_count": 1,
   "id": "1f8bb3b2-80c6-4dfc-b07e-4bec6cf1f980",
   "metadata": {},
   "outputs": [],
   "source": [
    "# Import packages\n",
    "import pandas as pd\n",
    "import numpy as np\n",
    "import geopandas as gpd\n",
    "import folium\n",
    "# import requests\n",
    "# from bs4 import BeautifulSoup\n",
    "\n",
    "# Import geocoder for Question 2\n",
    "import geocoder # import geocoder\n",
    "import requests\n",
    "\n",
    "# Data Analytics\n",
    "from sklearn.preprocessing import StandardScaler\n",
    "from sklearn.cluster import KMeans\n",
    "from sklearn.metrics import silhouette_score\n",
    "\n",
    "# Visualization\n",
    "import matplotlib.pyplot as plt\n",
    "import seaborn as sns"
   ]
  },
  {
   "cell_type": "code",
   "execution_count": 2,
   "id": "b37eb4ba-79ff-4a08-b1d5-4135a030680d",
   "metadata": {},
   "outputs": [
    {
     "data": {
      "text/html": [
       "<div>\n",
       "<style scoped>\n",
       "    .dataframe tbody tr th:only-of-type {\n",
       "        vertical-align: middle;\n",
       "    }\n",
       "\n",
       "    .dataframe tbody tr th {\n",
       "        vertical-align: top;\n",
       "    }\n",
       "\n",
       "    .dataframe thead th {\n",
       "        text-align: right;\n",
       "    }\n",
       "</style>\n",
       "<table border=\"1\" class=\"dataframe\">\n",
       "  <thead>\n",
       "    <tr style=\"text-align: right;\">\n",
       "      <th></th>\n",
       "      <th>ZPCD</th>\n",
       "      <th>CITY</th>\n",
       "      <th>STATE</th>\n",
       "      <th>ZP_INC</th>\n",
       "    </tr>\n",
       "  </thead>\n",
       "  <tbody>\n",
       "    <tr>\n",
       "      <th>0</th>\n",
       "      <td>60601</td>\n",
       "      <td>Chicago</td>\n",
       "      <td>IL</td>\n",
       "      <td>107195.42</td>\n",
       "    </tr>\n",
       "    <tr>\n",
       "      <th>1</th>\n",
       "      <td>60602</td>\n",
       "      <td>Chicago</td>\n",
       "      <td>IL</td>\n",
       "      <td>147682.05</td>\n",
       "    </tr>\n",
       "    <tr>\n",
       "      <th>2</th>\n",
       "      <td>60603</td>\n",
       "      <td>Chicago</td>\n",
       "      <td>IL</td>\n",
       "      <td>154786.84</td>\n",
       "    </tr>\n",
       "    <tr>\n",
       "      <th>3</th>\n",
       "      <td>60604</td>\n",
       "      <td>Chicago</td>\n",
       "      <td>IL</td>\n",
       "      <td>111927.92</td>\n",
       "    </tr>\n",
       "    <tr>\n",
       "      <th>4</th>\n",
       "      <td>60605</td>\n",
       "      <td>Chicago</td>\n",
       "      <td>IL</td>\n",
       "      <td>114545.59</td>\n",
       "    </tr>\n",
       "  </tbody>\n",
       "</table>\n",
       "</div>"
      ],
      "text/plain": [
       "    ZPCD      CITY STATE     ZP_INC\n",
       "0  60601   Chicago    IL  107195.42\n",
       "1  60602   Chicago    IL  147682.05\n",
       "2  60603   Chicago    IL  154786.84\n",
       "3  60604   Chicago    IL  111927.92\n",
       "4  60605   Chicago    IL  114545.59"
      ]
     },
     "execution_count": 2,
     "metadata": {},
     "output_type": "execute_result"
    }
   ],
   "source": [
    "# OPEN THE SHAPEFILE\n",
    "path_geodata = \"./Geodata/SimplyAnalytics_Shapefiles_2021-06-18_16_35_38_1aab3ecb451c42e3c3c94ea13da56031.shp\"\n",
    "file_geodata = gpd.read_file(path_geodata)\n",
    "\n",
    "file_geodata.columns = ['SPATIAL_ID','NAME','INCOME','geometry']\n",
    "# file_geodata\n",
    "\n",
    "# Creat a list only in Chicago\n",
    "zipcodes = []\n",
    "for i in range(len(file_geodata)):\n",
    "    # print(i)\n",
    "    zpcd, city, stid = file_geodata.NAME[i].split(',',2)\n",
    "    inc = round(file_geodata.INCOME[i],2)\n",
    "    # print(city)\n",
    "    row = [zpcd, city, stid, inc]\n",
    "    if city in ' Chicago ':\n",
    "        # print(zpcd)\n",
    "        zipcodes.append(row)\n",
    "# print(zipcodes)\n",
    "df_zipcodes = pd.DataFrame(zipcodes)\n",
    "df_zipcodes.columns = ['ZPCD','CITY','STATE','ZP_INC']\n",
    "df_zipcodes.head(5)"
   ]
  },
  {
   "cell_type": "code",
   "execution_count": 3,
   "id": "f33a9404-e865-4514-a9e2-da3d92953591",
   "metadata": {},
   "outputs": [
    {
     "name": "stderr",
     "output_type": "stream",
     "text": [
      "<ipython-input-3-9234d4698b53>:4: UserWarning: Geometry is in a geographic CRS. Results from 'centroid' are likely incorrect. Use 'GeoSeries.to_crs()' to re-project geometries to a projected CRS before this operation.\n",
      "\n",
      "  gdf_chicago['CENTROID'] = gdf_chicago['geometry'].centroid\n"
     ]
    },
    {
     "data": {
      "text/html": [
       "<div>\n",
       "<style scoped>\n",
       "    .dataframe tbody tr th:only-of-type {\n",
       "        vertical-align: middle;\n",
       "    }\n",
       "\n",
       "    .dataframe tbody tr th {\n",
       "        vertical-align: top;\n",
       "    }\n",
       "\n",
       "    .dataframe thead th {\n",
       "        text-align: right;\n",
       "    }\n",
       "</style>\n",
       "<table border=\"1\" class=\"dataframe\">\n",
       "  <thead>\n",
       "    <tr style=\"text-align: right;\">\n",
       "      <th></th>\n",
       "      <th>SPATIAL_ID</th>\n",
       "      <th>NAME</th>\n",
       "      <th>INCOME</th>\n",
       "      <th>geometry</th>\n",
       "      <th>ZPCD</th>\n",
       "      <th>CITY</th>\n",
       "      <th>STATE</th>\n",
       "      <th>ZP_INC</th>\n",
       "      <th>CENTROID</th>\n",
       "      <th>X</th>\n",
       "      <th>Y</th>\n",
       "    </tr>\n",
       "  </thead>\n",
       "  <tbody>\n",
       "    <tr>\n",
       "      <th>0</th>\n",
       "      <td>60601</td>\n",
       "      <td>60601, Chicago, IL</td>\n",
       "      <td>107195.418848</td>\n",
       "      <td>POLYGON ((-87.63396 41.88698, -87.63373 41.886...</td>\n",
       "      <td>60601</td>\n",
       "      <td>Chicago</td>\n",
       "      <td>IL</td>\n",
       "      <td>107195.42</td>\n",
       "      <td>POINT (-87.62206 41.88529)</td>\n",
       "      <td>-87.622064</td>\n",
       "      <td>41.885285</td>\n",
       "    </tr>\n",
       "    <tr>\n",
       "      <th>1</th>\n",
       "      <td>60602</td>\n",
       "      <td>60602, Chicago, IL</td>\n",
       "      <td>147682.046803</td>\n",
       "      <td>POLYGON ((-87.63389 41.88447, -87.63386 41.884...</td>\n",
       "      <td>60602</td>\n",
       "      <td>Chicago</td>\n",
       "      <td>IL</td>\n",
       "      <td>147682.05</td>\n",
       "      <td>POINT (-87.62915 41.88307)</td>\n",
       "      <td>-87.629148</td>\n",
       "      <td>41.883073</td>\n",
       "    </tr>\n",
       "    <tr>\n",
       "      <th>2</th>\n",
       "      <td>60603</td>\n",
       "      <td>60603, Chicago, IL</td>\n",
       "      <td>154786.835212</td>\n",
       "      <td>POLYGON ((-87.63382 41.88195, -87.63379 41.881...</td>\n",
       "      <td>60603</td>\n",
       "      <td>Chicago</td>\n",
       "      <td>IL</td>\n",
       "      <td>154786.84</td>\n",
       "      <td>POINT (-87.62551 41.88019)</td>\n",
       "      <td>-87.625510</td>\n",
       "      <td>41.880188</td>\n",
       "    </tr>\n",
       "    <tr>\n",
       "      <th>3</th>\n",
       "      <td>60604</td>\n",
       "      <td>60604, Chicago, IL</td>\n",
       "      <td>111927.919708</td>\n",
       "      <td>POLYGON ((-87.63376 41.87925, -87.63375 41.879...</td>\n",
       "      <td>60604</td>\n",
       "      <td>Chicago</td>\n",
       "      <td>IL</td>\n",
       "      <td>111927.92</td>\n",
       "      <td>POINT (-87.62846 41.87810)</td>\n",
       "      <td>-87.628460</td>\n",
       "      <td>41.878095</td>\n",
       "    </tr>\n",
       "    <tr>\n",
       "      <th>4</th>\n",
       "      <td>60605</td>\n",
       "      <td>60605, Chicago, IL</td>\n",
       "      <td>114545.586187</td>\n",
       "      <td>MULTIPOLYGON (((-87.63312 41.87449, -87.63306 ...</td>\n",
       "      <td>60605</td>\n",
       "      <td>Chicago</td>\n",
       "      <td>IL</td>\n",
       "      <td>114545.59</td>\n",
       "      <td>POINT (-87.61682 41.86815)</td>\n",
       "      <td>-87.616821</td>\n",
       "      <td>41.868150</td>\n",
       "    </tr>\n",
       "  </tbody>\n",
       "</table>\n",
       "</div>"
      ],
      "text/plain": [
       "  SPATIAL_ID                NAME         INCOME  \\\n",
       "0      60601  60601, Chicago, IL  107195.418848   \n",
       "1      60602  60602, Chicago, IL  147682.046803   \n",
       "2      60603  60603, Chicago, IL  154786.835212   \n",
       "3      60604  60604, Chicago, IL  111927.919708   \n",
       "4      60605  60605, Chicago, IL  114545.586187   \n",
       "\n",
       "                                            geometry   ZPCD      CITY STATE  \\\n",
       "0  POLYGON ((-87.63396 41.88698, -87.63373 41.886...  60601   Chicago    IL   \n",
       "1  POLYGON ((-87.63389 41.88447, -87.63386 41.884...  60602   Chicago    IL   \n",
       "2  POLYGON ((-87.63382 41.88195, -87.63379 41.881...  60603   Chicago    IL   \n",
       "3  POLYGON ((-87.63376 41.87925, -87.63375 41.879...  60604   Chicago    IL   \n",
       "4  MULTIPOLYGON (((-87.63312 41.87449, -87.63306 ...  60605   Chicago    IL   \n",
       "\n",
       "      ZP_INC                    CENTROID          X          Y  \n",
       "0  107195.42  POINT (-87.62206 41.88529) -87.622064  41.885285  \n",
       "1  147682.05  POINT (-87.62915 41.88307) -87.629148  41.883073  \n",
       "2  154786.84  POINT (-87.62551 41.88019) -87.625510  41.880188  \n",
       "3  111927.92  POINT (-87.62846 41.87810) -87.628460  41.878095  \n",
       "4  114545.59  POINT (-87.61682 41.86815) -87.616821  41.868150  "
      ]
     },
     "execution_count": 3,
     "metadata": {},
     "output_type": "execute_result"
    }
   ],
   "source": [
    "# GENERATE THE CENTROIDS OF THE ZIPCODE\n",
    "gdf_chicago = file_geodata.merge(df_zipcodes, left_on ='SPATIAL_ID', right_on = 'ZPCD')\n",
    "# gdf_chicago\n",
    "\n",
    "gdf_chicago['CENTROID'] = gdf_chicago['geometry'].centroid\n",
    "# df['lon'] = df.point_object.x\n",
    "# df['lat'] = df.point_object.y\n",
    "gdf_chicago['X'] = gdf_chicago['CENTROID'].x\n",
    "gdf_chicago['Y'] = gdf_chicago['CENTROID'].y\n",
    "gdf_chicago.head(5)"
   ]
  },
  {
   "cell_type": "code",
   "execution_count": 4,
   "id": "8c302633-c066-4930-9e41-802c479761e5",
   "metadata": {},
   "outputs": [
    {
     "name": "stdout",
     "output_type": "stream",
     "text": [
      "Your credentails:\n",
      "CLIENT_ID: EPLZVRBN41DTMMYN0DKIQ1QAWXUKJOI3A4PAN5DZPRT0GPR1\n",
      "CLIENT_SECRET:GSV2JZGGLP2SA1F5APRDI4DOYSVSBVWYPO2ZEZPTE4MSOCBXX\n"
     ]
    }
   ],
   "source": [
    "# COLLECT DATA FROM FOURSQUARE\n",
    "\n",
    "def VenuesDataCollection(zpcd_id, lng, lat):\n",
    "    # lng = gdf_chicago.X[1]\n",
    "    # lat = gdf_chicago.Y[1]\n",
    "    url = 'https://api.foursquare.com/v2/venues/search?client_id={}&client_secret={}&ll={},{}&oauth_token={}&v={}&radius={}&limit={}'.format(\n",
    "        CLIENT_ID, \n",
    "        CLIENT_SECRET, \n",
    "        lat, lng,\n",
    "        ACCESS_TOKEN, \n",
    "        VERSION, \n",
    "        # search_query, \n",
    "        radius, \n",
    "        LIMIT)\n",
    "    # url\n",
    "    results = requests.get(url).json()\n",
    "    # results[\"response\"]['venues']\n",
    "    \n",
    "    zpcd_venues = results[\"response\"]['venues']\n",
    "    categories = []\n",
    "    \n",
    "    for i in range(len(zpcd_venues)):\n",
    "        # print(i)\n",
    "        venue = zpcd_venues[i]['categories']\n",
    "        if len(venue)>0:\n",
    "            try:\n",
    "                name = venue[0]['name']\n",
    "            except:\n",
    "                name = ''\n",
    "            plural_name=venue[0]['pluralName']\n",
    "            short_name =venue[0]['shortName']\n",
    "            categories.append([zpcd_id, name, plural_name, short_name])\n",
    "    \n",
    "    return categories  \n",
    "\n",
    "# Access to Foursquare Data\n",
    "CLIENT_ID = 'EPLZVRBN41DTMMYN0DKIQ1QAWXUKJOI3A4PAN5DZPRT0GPR1' # your Foursquare ID\n",
    "CLIENT_SECRET = 'GSV2JZGGLP2SA1F5APRDI4DOYSVSBVWYPO2ZEZPTE4MSOCBXX' # your Foursquare Secret\n",
    "ACCESS_TOKEN = 'T0GCV0KOGM4BAZ0DN5ORUP0R4SVRSQEZ4ASBJZSRHFPJZFMN' # your FourSquare Access Token\n",
    "VERSION = '20180604'\n",
    "LIMIT = 300\n",
    "radius = 800\n",
    "print('Your credentails:')\n",
    "print('CLIENT_ID: ' + CLIENT_ID)\n",
    "print('CLIENT_SECRET:' + CLIENT_SECRET)"
   ]
  },
  {
   "cell_type": "code",
   "execution_count": 5,
   "id": "d2b45817-7016-4781-9896-a325002ffe97",
   "metadata": {},
   "outputs": [
    {
     "name": "stdout",
     "output_type": "stream",
     "text": [
      "Location: 60601 -87.62206357008972 41.88528523042665 has 123 venues\n",
      "Location: 60602 -87.62914845044858 41.883072880939956 has 119 venues\n",
      "Location: 60603 -87.62550976274478 41.88018799289934 has 113 venues\n",
      "Location: 60604 -87.62845993974331 41.8780954997571 has 106 venues\n",
      "Location: 60605 -87.61682112415419 41.86814991560412 has 48 venues\n",
      "Location: 60606 -87.63735145603108 41.88207054633471 has 122 venues\n",
      "Location: 60607 -87.65158943646624 41.87492495266917 has 104 venues\n",
      "Location: 60608 -87.67139985218077 41.84874019295124 has 110 venues\n",
      "Location: 60609 -87.65564454854443 41.812505891490524 has 113 venues\n",
      "Location: 60610 -87.63204061838475 41.90697023524323 has 94 venues\n",
      "Location: 60611 -87.6142610872995 41.893852146226024 has 39 venues\n",
      "Location: 60612 -87.68774265080441 41.88031290649718 has 110 venues\n",
      "Location: 60613 -87.6543554805439 41.95689330205768 has 101 venues\n",
      "Location: 60614 -87.6496488991919 41.922763842191756 has 89 venues\n",
      "Location: 60615 -87.59655858388572 41.802364556858784 has 112 venues\n",
      "Location: 60616 -87.62418270431881 41.84461509329911 has 111 venues\n",
      "Location: 60617 -87.5523729963131 41.71810810971246 has 101 venues\n",
      "Location: 60618 -87.70254829749328 41.946960952224394 has 94 venues\n",
      "Location: 60619 -87.60552317380322 41.74369459411471 has 107 venues\n",
      "Location: 60620 -87.65251816139205 41.74081566416736 has 115 venues\n",
      "Location: 60621 -87.63957122269947 41.776383158071056 has 104 venues\n",
      "Location: 60622 -87.68332898817978 41.90271233026667 has 115 venues\n",
      "Location: 60623 -87.71783206384023 41.84811928201885 has 113 venues\n",
      "Location: 60624 -87.72341744390059 41.88064223956384 has 110 venues\n",
      "Location: 60625 -87.7001312214346 41.973317951134504 has 97 venues\n",
      "Location: 60626 -87.66692747034753 42.00982361423686 has 63 venues\n",
      "Location: 60628 -87.61794906849168 41.69181406299213 has 115 venues\n",
      "Location: 60629 -87.71157126167387 41.77567668342105 has 105 venues\n",
      "Location: 60630 -87.75711917849631 41.97211990541258 has 13 venues\n",
      "Location: 60631 -87.81300151657265 41.99485649227689 has 110 venues\n",
      "Location: 60632 -87.7133341499523 41.81137057321261 has 110 venues\n",
      "Location: 60633 -87.56133243348458 41.66433568250035 has 103 venues\n",
      "Location: 60634 -87.80606671086107 41.94633515338598 has 106 venues\n",
      "Location: 60636 -87.66906398132143 41.77574045700027 has 110 venues\n",
      "Location: 60637 -87.59949016961329 41.7822146717816 has 79 venues\n",
      "Location: 60638 -87.77051886961905 41.78143264591725 has 87 venues\n",
      "Location: 60639 -87.7560541031436 41.92055201466966 has 112 venues\n",
      "Location: 60640 -87.66135522475855 41.9726739637765 has 106 venues\n",
      "Location: 60641 -87.74678675474793 41.94660620154678 has 103 venues\n",
      "Location: 60642 -87.65799867190606 41.901632191599056 has 91 venues\n",
      "Location: 60643 -87.66278660959011 41.69958944945933 has 107 venues\n",
      "Location: 60644 -87.75749122245713 41.88023319470443 has 115 venues\n",
      "Location: 60645 -87.69473532104882 42.00855869678798 has 114 venues\n",
      "Location: 60646 -87.75962933186486 41.993018731766185 has 77 venues\n",
      "Location: 60647 -87.70174948382572 41.92072769465213 has 58 venues\n",
      "Location: 60649 -87.56596849504109 41.764088166090474 has 104 venues\n",
      "Location: 60651 -87.74085634373817 41.90209194931635 has 115 venues\n",
      "Location: 60652 -87.71479590110681 41.74793160541576 has 107 venues\n",
      "Location: 60653 -87.60604412453813 41.81986739745396 has 96 venues\n",
      "Location: 60654 -87.63725908348 41.89227718316214 has 99 venues\n",
      "Location: 60655 -87.70377599551107 41.69477647000279 has 113 venues\n",
      "Location: 60656 -87.82712692568734 41.97427834681672 has 119 venues\n",
      "Location: 60657 -87.64925572789514 41.94033100764934 has 109 venues\n",
      "Location: 60659 -87.70405593900401 41.991146212232685 has 104 venues\n",
      "Location: 60660 -87.66367869349271 41.99123145947034 has 95 venues\n",
      "Location: 60661 -87.64409932063985 41.88302774297822 has 108 venues\n"
     ]
    }
   ],
   "source": [
    "# DOWBLOADING DATA\n",
    "req_dta = gdf_chicago[['SPATIAL_ID', 'X', 'Y']]\n",
    "# req_dta\n",
    "venue_results = []\n",
    "for index, row in req_dta.iterrows():\n",
    "    result = VenuesDataCollection(row[0],row[1], row[2])\n",
    "    # print('Location:',row[0], row[1], row[2],'has', len(result),'venues')\n",
    "    venue_results.extend(result)\n",
    "# venue_results\n",
    "print ('Completed.........')"
   ]
  },
  {
   "cell_type": "markdown",
   "id": "8f5efae3-eb95-418d-9f2e-282ae31b6469",
   "metadata": {},
   "source": [
    "#### Grouping venues to fewer categories\n",
    "1. This study has collected venues dataset for 56 Chicago zipcodes\n",
    "2. The orginial dataset has over 400 unique categories -> Intinial trial for clustering based on 400+ variables did not work well\n",
    "3. The following code reduces the categories by the similarities -> for example, restaurants should goes to the same categories\n",
    "4. Mannually created cross-walk list"
   ]
  },
  {
   "cell_type": "code",
   "execution_count": 6,
   "id": "f3e4aa54-3ce5-463c-8e84-b7764923016c",
   "metadata": {},
   "outputs": [
    {
     "name": "stdout",
     "output_type": "stream",
     "text": [
      "(5623, 4)\n",
      "Unique venue categories: 424\n"
     ]
    },
    {
     "data": {
      "text/html": [
       "<div>\n",
       "<style scoped>\n",
       "    .dataframe tbody tr th:only-of-type {\n",
       "        vertical-align: middle;\n",
       "    }\n",
       "\n",
       "    .dataframe tbody tr th {\n",
       "        vertical-align: top;\n",
       "    }\n",
       "\n",
       "    .dataframe thead th {\n",
       "        text-align: right;\n",
       "    }\n",
       "</style>\n",
       "<table border=\"1\" class=\"dataframe\">\n",
       "  <thead>\n",
       "    <tr style=\"text-align: right;\">\n",
       "      <th></th>\n",
       "      <th>PNAME</th>\n",
       "      <th>NAME_CATEGORIES</th>\n",
       "    </tr>\n",
       "  </thead>\n",
       "  <tbody>\n",
       "    <tr>\n",
       "      <th>0</th>\n",
       "      <td>Accessories Stores</td>\n",
       "      <td>Retails</td>\n",
       "    </tr>\n",
       "    <tr>\n",
       "      <th>1</th>\n",
       "      <td>Acupuncturists</td>\n",
       "      <td>Professional Services</td>\n",
       "    </tr>\n",
       "    <tr>\n",
       "      <th>2</th>\n",
       "      <td>Advertising Agencies</td>\n",
       "      <td>Professional Services</td>\n",
       "    </tr>\n",
       "    <tr>\n",
       "      <th>3</th>\n",
       "      <td>African Restaurants</td>\n",
       "      <td>Restaurants</td>\n",
       "    </tr>\n",
       "    <tr>\n",
       "      <th>4</th>\n",
       "      <td>Airport Gates</td>\n",
       "      <td>Airport</td>\n",
       "    </tr>\n",
       "  </tbody>\n",
       "</table>\n",
       "</div>"
      ],
      "text/plain": [
       "                  PNAME        NAME_CATEGORIES\n",
       "0    Accessories Stores                Retails\n",
       "1        Acupuncturists  Professional Services\n",
       "2  Advertising Agencies  Professional Services\n",
       "3   African Restaurants            Restaurants\n",
       "4         Airport Gates                Airport"
      ]
     },
     "execution_count": 6,
     "metadata": {},
     "output_type": "execute_result"
    }
   ],
   "source": [
    "df_zpcd_venues = pd.DataFrame(venue_results,columns = ['ZPCD','NAME','PNAME','SNAME'])\n",
    "print(df_zpcd_venues.shape)\n",
    "# df_zpcd_venues.SNAME.unique()\n",
    "\n",
    "# venue dataset has more than 400 unique categories.\n",
    "print('Unique venue categories:',len(df_zpcd_venues.PNAME.unique()))\n",
    "unique_pnames = df_zpcd_venues.PNAME.unique()\n",
    "\n",
    "# Loading crosswalk\n",
    "pname_categories = pd.read_csv('./Data/Pnames_v003.csv')\n",
    "pname_categories.head()"
   ]
  },
  {
   "cell_type": "code",
   "execution_count": 8,
   "id": "c49e41f1-3d51-42dd-a66b-e18f3c4abc89",
   "metadata": {},
   "outputs": [
    {
     "name": "stdout",
     "output_type": "stream",
     "text": [
      "(5623, 4) (5623, 5)\n"
     ]
    }
   ],
   "source": [
    "df_zpcd_categories = df_zpcd_venues.merge(pname_categories, how='left', left_on = 'PNAME', right_on = 'PNAME')\n",
    "\n",
    "print(df_zpcd_venues.shape, df_zpcd_categories.shape)\n",
    "df_zpcd_categories.NAME_CATEGORIES = np.where(\n",
    "    (df_zpcd_categories.NAME_CATEGORIES == 'Other Food Store'),'Restaurants',df_zpcd_categories.NAME_CATEGORIES)\n",
    "df_zpcd_categories.NAME_CATEGORIES = np.where(\n",
    "    (df_zpcd_categories.NAME_CATEGORIES == 'Parking'),'Transportation',df_zpcd_categories.NAME_CATEGORIES)\n",
    "df_zpcd_categories.NAME_CATEGORIES = np.where(\n",
    "    (df_zpcd_categories.NAME_CATEGORIES == 'Airport'),'Transportation',df_zpcd_categories.NAME_CATEGORIES)\n",
    "df_zpcd_categories = df_zpcd_categories[df_zpcd_categories.NAME_CATEGORIES != 'Residential']"
   ]
  },
  {
   "cell_type": "code",
   "execution_count": 9,
   "id": "20c89d14-ea14-47fd-b7da-1df22e46a34e",
   "metadata": {},
   "outputs": [
    {
     "name": "stdout",
     "output_type": "stream",
     "text": [
      "(5374, 11)\n"
     ]
    },
    {
     "data": {
      "text/html": [
       "<div>\n",
       "<style scoped>\n",
       "    .dataframe tbody tr th:only-of-type {\n",
       "        vertical-align: middle;\n",
       "    }\n",
       "\n",
       "    .dataframe tbody tr th {\n",
       "        vertical-align: top;\n",
       "    }\n",
       "\n",
       "    .dataframe thead th {\n",
       "        text-align: right;\n",
       "    }\n",
       "</style>\n",
       "<table border=\"1\" class=\"dataframe\">\n",
       "  <thead>\n",
       "    <tr style=\"text-align: right;\">\n",
       "      <th></th>\n",
       "      <th>ZPCD</th>\n",
       "      <th>Civic Services</th>\n",
       "      <th>Leisure</th>\n",
       "      <th>Offices</th>\n",
       "      <th>Other Landuses</th>\n",
       "      <th>Professional Services</th>\n",
       "      <th>Restaurants</th>\n",
       "      <th>Retails</th>\n",
       "      <th>Schools</th>\n",
       "      <th>Sport and Fitness</th>\n",
       "      <th>Transportation</th>\n",
       "    </tr>\n",
       "  </thead>\n",
       "  <tbody>\n",
       "    <tr>\n",
       "      <th>0</th>\n",
       "      <td>60601</td>\n",
       "      <td>0.032787</td>\n",
       "      <td>0.114754</td>\n",
       "      <td>0.516393</td>\n",
       "      <td>0.065574</td>\n",
       "      <td>0.065574</td>\n",
       "      <td>0.073770</td>\n",
       "      <td>0.065574</td>\n",
       "      <td>0.000000</td>\n",
       "      <td>0.032787</td>\n",
       "      <td>0.016393</td>\n",
       "    </tr>\n",
       "    <tr>\n",
       "      <th>1</th>\n",
       "      <td>60602</td>\n",
       "      <td>0.084746</td>\n",
       "      <td>0.093220</td>\n",
       "      <td>0.305085</td>\n",
       "      <td>0.050847</td>\n",
       "      <td>0.169492</td>\n",
       "      <td>0.118644</td>\n",
       "      <td>0.084746</td>\n",
       "      <td>0.008475</td>\n",
       "      <td>0.016949</td>\n",
       "      <td>0.067797</td>\n",
       "    </tr>\n",
       "    <tr>\n",
       "      <th>2</th>\n",
       "      <td>60603</td>\n",
       "      <td>0.036364</td>\n",
       "      <td>0.090909</td>\n",
       "      <td>0.290909</td>\n",
       "      <td>0.063636</td>\n",
       "      <td>0.100000</td>\n",
       "      <td>0.109091</td>\n",
       "      <td>0.100000</td>\n",
       "      <td>0.118182</td>\n",
       "      <td>0.045455</td>\n",
       "      <td>0.036364</td>\n",
       "    </tr>\n",
       "    <tr>\n",
       "      <th>3</th>\n",
       "      <td>60604</td>\n",
       "      <td>0.075472</td>\n",
       "      <td>0.103774</td>\n",
       "      <td>0.113208</td>\n",
       "      <td>0.047170</td>\n",
       "      <td>0.066038</td>\n",
       "      <td>0.169811</td>\n",
       "      <td>0.113208</td>\n",
       "      <td>0.216981</td>\n",
       "      <td>0.018868</td>\n",
       "      <td>0.066038</td>\n",
       "    </tr>\n",
       "    <tr>\n",
       "      <th>4</th>\n",
       "      <td>60605</td>\n",
       "      <td>0.021277</td>\n",
       "      <td>0.617021</td>\n",
       "      <td>0.042553</td>\n",
       "      <td>0.063830</td>\n",
       "      <td>0.000000</td>\n",
       "      <td>0.148936</td>\n",
       "      <td>0.063830</td>\n",
       "      <td>0.000000</td>\n",
       "      <td>0.042553</td>\n",
       "      <td>0.000000</td>\n",
       "    </tr>\n",
       "  </tbody>\n",
       "</table>\n",
       "</div>"
      ],
      "text/plain": [
       "    ZPCD  Civic Services   Leisure   Offices  Other Landuses  \\\n",
       "0  60601        0.032787  0.114754  0.516393        0.065574   \n",
       "1  60602        0.084746  0.093220  0.305085        0.050847   \n",
       "2  60603        0.036364  0.090909  0.290909        0.063636   \n",
       "3  60604        0.075472  0.103774  0.113208        0.047170   \n",
       "4  60605        0.021277  0.617021  0.042553        0.063830   \n",
       "\n",
       "   Professional Services  Restaurants   Retails   Schools  Sport and Fitness  \\\n",
       "0               0.065574     0.073770  0.065574  0.000000           0.032787   \n",
       "1               0.169492     0.118644  0.084746  0.008475           0.016949   \n",
       "2               0.100000     0.109091  0.100000  0.118182           0.045455   \n",
       "3               0.066038     0.169811  0.113208  0.216981           0.018868   \n",
       "4               0.000000     0.148936  0.063830  0.000000           0.042553   \n",
       "\n",
       "   Transportation  \n",
       "0        0.016393  \n",
       "1        0.067797  \n",
       "2        0.036364  \n",
       "3        0.066038  \n",
       "4        0.000000  "
      ]
     },
     "execution_count": 9,
     "metadata": {},
     "output_type": "execute_result"
    }
   ],
   "source": [
    "# df_zpcd_venues.groupby('ZPCD').count()\n",
    "zpcd_dummies = pd.get_dummies(df_zpcd_categories[['NAME_CATEGORIES']], prefix=\"\", prefix_sep=\"\")\n",
    "zpcd_dummies['ZPCD'] = df_zpcd_venues['ZPCD']\n",
    "zpcd_dummies.head(5)\n",
    "\n",
    "print(zpcd_dummies.shape)\n",
    "zpcd_grouped = zpcd_dummies.groupby('ZPCD').mean().reset_index()\n",
    "# zpcd_grouped = zpcd_dummies.groupby('ZPCD').sum().reset_index()\n",
    "zpcd_grouped.head(5)\n"
   ]
  },
  {
   "cell_type": "markdown",
   "id": "6ba764a7-1f69-4370-b293-9cfb5f218d95",
   "metadata": {},
   "source": [
    "## ANALYSIS & RESULTS\n",
    "It plots histograms of input variables. All the plots generally show gamma or normal distributions, which indicates the quality of data being fairly good. However, it is important to note that some variables (i.e.,  retails and restaurants) may show a second peak after the main peak, implying multiple clusters may exist in the data. "
   ]
  },
  {
   "cell_type": "code",
   "execution_count": 22,
   "id": "1e34304f-c53b-4325-94d2-fb18f76e28db",
   "metadata": {},
   "outputs": [
    {
     "name": "stdout",
     "output_type": "stream",
     "text": [
      "ZP_INC\n"
     ]
    },
    {
     "data": {
      "image/png": "[encoded data removed]",
      "text/plain": [
       "<Figure size 432x288 with 1 Axes>"
      ]
     },
     "metadata": {
      "needs_background": "light"
     },
     "output_type": "display_data"
    },
    {
     "name": "stdout",
     "output_type": "stream",
     "text": [
      "X\n"
     ]
    },
    {
     "data": {
      "image/png": "[encoded data removed]",
      "text/plain": [
       "<Figure size 432x288 with 1 Axes>"
      ]
     },
     "metadata": {
      "needs_background": "light"
     },
     "output_type": "display_data"
    },
    {
     "name": "stdout",
     "output_type": "stream",
     "text": [
      "Y\n"
     ]
    },
    {
     "data": {
      "image/png": "[encoded data removed]",
      "text/plain": [
       "<Figure size 432x288 with 1 Axes>"
      ]
     },
     "metadata": {
      "needs_background": "light"
     },
     "output_type": "display_data"
    },
    {
     "name": "stdout",
     "output_type": "stream",
     "text": [
      "Civic Services\n"
     ]
    },
    {
     "data": {
      "image/png": "[encoded data removed]",
      "text/plain": [
       "<Figure size 432x288 with 1 Axes>"
      ]
     },
     "metadata": {
      "needs_background": "light"
     },
     "output_type": "display_data"
    },
    {
     "name": "stdout",
     "output_type": "stream",
     "text": [
      "Leisure\n"
     ]
    },
    {
     "data": {
      "image/png": "[encoded data removed]",
      "text/plain": [
       "<Figure size 432x288 with 1 Axes>"
      ]
     },
     "metadata": {
      "needs_background": "light"
     },
     "output_type": "display_data"
    },
    {
     "name": "stdout",
     "output_type": "stream",
     "text": [
      "Offices\n"
     ]
    },
    {
     "data": {
      "image/png": "[encoded data removed]",
      "text/plain": [
       "<Figure size 432x288 with 1 Axes>"
      ]
     },
     "metadata": {
      "needs_background": "light"
     },
     "output_type": "display_data"
    },
    {
     "name": "stdout",
     "output_type": "stream",
     "text": [
      "Other Landuses\n"
     ]
    },
    {
     "data": {
      "image/png": "[encoded data removed]",
      "text/plain": [
       "<Figure size 432x288 with 1 Axes>"
      ]
     },
     "metadata": {
      "needs_background": "light"
     },
     "output_type": "display_data"
    },
    {
     "name": "stdout",
     "output_type": "stream",
     "text": [
      "Professional Services\n"
     ]
    },
    {
     "data": {
      "image/png": "[encoded data removed]",
      "text/plain": [
       "<Figure size 432x288 with 1 Axes>"
      ]
     },
     "metadata": {
      "needs_background": "light"
     },
     "output_type": "display_data"
    },
    {
     "name": "stdout",
     "output_type": "stream",
     "text": [
      "Restaurants\n"
     ]
    },
    {
     "data": {
      "image/png": "[encoded data removed]",
      "text/plain": [
       "<Figure size 432x288 with 1 Axes>"
      ]
     },
     "metadata": {
      "needs_background": "light"
     },
     "output_type": "display_data"
    },
    {
     "name": "stdout",
     "output_type": "stream",
     "text": [
      "Retails\n"
     ]
    },
    {
     "data": {
      "image/png": "[encoded data removed]",
      "text/plain": [
       "<Figure size 432x288 with 1 Axes>"
      ]
     },
     "metadata": {
      "needs_background": "light"
     },
     "output_type": "display_data"
    },
    {
     "name": "stdout",
     "output_type": "stream",
     "text": [
      "Schools\n"
     ]
    },
    {
     "data": {
      "image/png": "[encoded data removed]",
      "text/plain": [
       "<Figure size 432x288 with 1 Axes>"
      ]
     },
     "metadata": {
      "needs_background": "light"
     },
     "output_type": "display_data"
    },
    {
     "name": "stdout",
     "output_type": "stream",
     "text": [
      "Sport and Fitness\n"
     ]
    },
    {
     "data": {
      "image/png": "[encoded data removed]",
      "text/plain": [
       "<Figure size 432x288 with 1 Axes>"
      ]
     },
     "metadata": {
      "needs_background": "light"
     },
     "output_type": "display_data"
    },
    {
     "name": "stdout",
     "output_type": "stream",
     "text": [
      "Transportation\n"
     ]
    },
    {
     "data": {
      "image/png": "[encoded data removed]",
      "text/plain": [
       "<Figure size 432x288 with 1 Axes>"
      ]
     },
     "metadata": {
      "needs_background": "light"
     },
     "output_type": "display_data"
    }
   ],
   "source": [
    "for var in df_clusters.columns:\n",
    "    print (var)\n",
    "    df_clusters[var].hist(bins=9)\n",
    "    plt.show()"
   ]
  },
  {
   "cell_type": "markdown",
   "id": "1c2952a1-c5a0-4817-b6fa-0aefa084caf8",
   "metadata": {},
   "source": [
    "### Clustering Analysis \n",
    "This study deploys the k-means clustering analysis to identify the typologies of Chicago neighborhoods. This approach aims to partition n observations into k clusters based on input variables. All observations belonging to the same cluster have the nearest mean distances (to the cluster centroid). Numerically, k-means clustering minimizes within-cluster variances and optimizes squared errors. At the same time, the key challenge for implementing k-means clustering is to determine the optimal k – the number of clusters. This study, therefore, computes silhouette scores for each k option to find the best partitioning result. \n",
    "\n",
    "As described in the previous section, the complete dataset consists of 13 variables for clustering analysis (Table 1). However, their ranges and variances differ greatly, and these variables need to be standardized before implementing the clustering algorithm. Also, this study involves geometric variables (i.e., latitude and longitude) for clustering. This is because the spatial spillover appears in urban neighborhoods where nearby communities are more like to share the similarities. Therefore, identifying the spatial clusters is helpful for effective strategic planning. \n",
    "\n",
    "Then, the exploratory analysis compares the characteristics of identified neighborhood typologies/clusters. This study compares the means and standard errors of the mean across the clusters. The results illustrate the social disparities and explore the reasons behind the facts, seeking actionable improvements for underdeveloped urban neighborhoods.  \n"
   ]
  },
  {
   "cell_type": "code",
   "execution_count": 14,
   "id": "b1204c82-4086-4eee-b38e-e68d3161bab7",
   "metadata": {},
   "outputs": [
    {
     "name": "stdout",
     "output_type": "stream",
     "text": [
      "      ZP_INC          X          Y  Civic Services   Leisure   Offices  \\\n",
      "0  107195.42 -87.622064  41.885285        0.032787  0.114754  0.516393   \n",
      "1  147682.05 -87.629148  41.883073        0.084746  0.093220  0.305085   \n",
      "2  154786.84 -87.625510  41.880188        0.036364  0.090909  0.290909   \n",
      "\n",
      "   Other Landuses  Professional Services  Restaurants   Retails   Schools  \\\n",
      "0        0.065574               0.065574     0.073770  0.065574  0.000000   \n",
      "1        0.050847               0.169492     0.118644  0.084746  0.008475   \n",
      "2        0.063636               0.100000     0.109091  0.100000  0.118182   \n",
      "\n",
      "   Sport and Fitness  Transportation  \n",
      "0           0.032787        0.016393  \n",
      "1           0.016949        0.067797  \n",
      "2           0.045455        0.036364  \n"
     ]
    },
    {
     "data": {
      "text/plain": [
       "<function matplotlib.pyplot.show(close=None, block=None)>"
      ]
     },
     "execution_count": 14,
     "metadata": {},
     "output_type": "execute_result"
    },
    {
     "data": {
      "image/png": "[encoded data removed]",
      "text/plain": [
       "<Figure size 432x288 with 1 Axes>"
      ]
     },
     "metadata": {
      "needs_background": "light"
     },
     "output_type": "display_data"
    }
   ],
   "source": [
    "# Cluster zipcode\n",
    "# Identify clusters based on spatial & income\n",
    "df_clusters = gdf_chicago[['SPATIAL_ID','ZP_INC', 'X', 'Y']].merge(zpcd_grouped, left_on ='SPATIAL_ID', right_on = 'ZPCD')\n",
    "df_clusters = df_clusters.drop(['SPATIAL_ID','ZPCD'],1)\n",
    "print(df_clusters.head(3))\n",
    "\n",
    "# Standarize values for clustering\n",
    "st_clusters = StandardScaler().fit_transform(df_clusters)\n",
    "# print(st_clusters)\n",
    "\n",
    "# ------------------------------------\n",
    "# Identify cluster using K-mean\n",
    "k_max = 12\n",
    "silho = []\n",
    "for k in range(2, k_max+1):\n",
    "    # print('Testing k: ', k)\n",
    "    kmeans = KMeans(n_clusters = k, random_state=0).fit(st_clusters)\n",
    "    labels = kmeans.labels_\n",
    "    silho.append([k, silhouette_score(st_clusters, labels, metric = 'euclidean')])\n",
    "\n",
    "# Plot SILHOUETTE SCORE\n",
    "df_silho = pd.DataFrame(silho)\n",
    "plt.plot(df_silho[0],df_silho[1])\n",
    "plt.show\n",
    "# The best k could be 5"
   ]
  },
  {
   "cell_type": "code",
   "execution_count": 15,
   "id": "5974f7ee-64d0-4d7f-9652-db88421b01dc",
   "metadata": {},
   "outputs": [
    {
     "data": {
      "text/plain": [
       "<AxesSubplot:>"
      ]
     },
     "execution_count": 15,
     "metadata": {},
     "output_type": "execute_result"
    },
    {
     "data": {
      "image/png": "[encoded data removed]",
      "text/plain": [
       "<Figure size 1440x720 with 1 Axes>"
      ]
     },
     "metadata": {
      "needs_background": "light"
     },
     "output_type": "display_data"
    }
   ],
   "source": [
    "k_opt = 5\n",
    "res_kmeans  = KMeans(n_clusters = k_opt, random_state=0).fit(df_clusters)\n",
    "res_labels  = res_kmeans.labels_\n",
    "res_chicago = gdf_chicago.merge(zpcd_grouped, left_on='SPATIAL_ID', right_on='ZPCD')\n",
    "res_chicago['CLUSTER_ID'] = res_labels\n",
    "\n",
    "res_sorting = res_chicago[['CLUSTER_ID','INCOME']].groupby('CLUSTER_ID').agg(np.mean)\n",
    "res_sorted  = res_sorting.sort_values('INCOME').reset_index()\n",
    "res_sorted['LABELS'] = res_sorted.index\n",
    "res_reorder = res_sorted[['CLUSTER_ID','LABELS']]\n",
    "\n",
    "fin_chicago = res_chicago.merge(res_reorder, how = 'left', on = 'CLUSTER_ID')\n",
    "\n",
    "# fin_chicago.head(5)\n",
    "fin_chicago.plot(\n",
    "    column = 'LABELS', categorical=True, cmap='Spectral',\n",
    "    figsize = [20,10], linewidth=.4, edgecolor='0.2',\n",
    "    legend=True)"
   ]
  },
  {
   "cell_type": "markdown",
   "id": "8ff2b9e4-8482-4fd9-ace0-f510da2b6936",
   "metadata": {},
   "source": [
    "### Exploratory Analysis\n",
    "\n",
    "Clustering the neighborhoods is not intended to label the area with “good” or “bad”; rather, clustering analysis helps to visualize the social disparities, explore the underlying reasons, and probably identify strategies for improvements. \n",
    "\n",
    "It compares the characteristics of neighborhood clusters. As mentioned before, Group 4 is unique, especially regarding its land uses. On average, over 30% of venues within the neighborhoods are offices or co-worker places. Hence, other categories, such as Restaurants, Leisure (e.g., parks) are significantly lower in terms of the proposition."
   ]
  },
  {
   "cell_type": "code",
   "execution_count": 23,
   "id": "46d1ad8d-bdb9-4287-8159-9ab2b48a8989",
   "metadata": {},
   "outputs": [
    {
     "name": "stderr",
     "output_type": "stream",
     "text": [
      "<ipython-input-23-b4f6ef150120>:9: SettingWithCopyWarning: \n",
      "A value is trying to be set on a copy of a slice from a DataFrame.\n",
      "Try using .loc[row_indexer,col_indexer] = value instead\n",
      "\n",
      "See the caveats in the documentation: https://pandas.pydata.org/pandas-docs/stable/user_guide/indexing.html#returning-a-view-versus-a-copy\n",
      "  fin_tab['sem'] = 1.96*fin_tab['std']/(fin_tab['size']**0.5)\n"
     ]
    },
    {
     "data": {
      "image/png": "[encoded data removed]",
      "text/plain": [
       "<Figure size 432x288 with 1 Axes>"
      ]
     },
     "metadata": {
      "needs_background": "light"
     },
     "output_type": "display_data"
    },
    {
     "data": {
      "image/png": "[encoded data removed]",
      "text/plain": [
       "<Figure size 432x288 with 1 Axes>"
      ]
     },
     "metadata": {
      "needs_background": "light"
     },
     "output_type": "display_data"
    },
    {
     "data": {
      "image/png": "[encoded data removed]",
      "text/plain": [
       "<Figure size 432x288 with 1 Axes>"
      ]
     },
     "metadata": {
      "needs_background": "light"
     },
     "output_type": "display_data"
    },
    {
     "data": {
      "image/png": "[encoded data removed]",
      "text/plain": [
       "<Figure size 432x288 with 1 Axes>"
      ]
     },
     "metadata": {
      "needs_background": "light"
     },
     "output_type": "display_data"
    },
    {
     "data": {
      "image/png": "[encoded data removed]",
      "text/plain": [
       "<Figure size 432x288 with 1 Axes>"
      ]
     },
     "metadata": {
      "needs_background": "light"
     },
     "output_type": "display_data"
    },
    {
     "data": {
      "image/png": "[encoded data removed]",
      "text/plain": [
       "<Figure size 432x288 with 1 Axes>"
      ]
     },
     "metadata": {
      "needs_background": "light"
     },
     "output_type": "display_data"
    },
    {
     "data": {
      "image/png": "[encoded data removed]",
      "text/plain": [
       "<Figure size 432x288 with 1 Axes>"
      ]
     },
     "metadata": {
      "needs_background": "light"
     },
     "output_type": "display_data"
    },
    {
     "data": {
      "image/png": "[encoded data removed]",
      "text/plain": [
       "<Figure size 432x288 with 1 Axes>"
      ]
     },
     "metadata": {
      "needs_background": "light"
     },
     "output_type": "display_data"
    },
    {
     "data": {
      "image/png": "[encoded data removed]",
      "text/plain": [
       "<Figure size 432x288 with 1 Axes>"
      ]
     },
     "metadata": {
      "needs_background": "light"
     },
     "output_type": "display_data"
    },
    {
     "data": {
      "image/png": "[encoded data removed]",
      "text/plain": [
       "<Figure size 432x288 with 1 Axes>"
      ]
     },
     "metadata": {
      "needs_background": "light"
     },
     "output_type": "display_data"
    },
    {
     "data": {
      "image/png": "[encoded data removed]",
      "text/plain": [
       "<Figure size 432x288 with 1 Axes>"
      ]
     },
     "metadata": {
      "needs_background": "light"
     },
     "output_type": "display_data"
    }
   ],
   "source": [
    "fin_summary = fin_chicago.groupby('LABELS').agg([np.mean, np.std, np.size])\n",
    "fin_sum_srt = fin_summary.sort_values(('ZP_INC','mean')).reset_index()\n",
    "\n",
    "vars_list = ['ZP_INC', 'Offices', 'Professional Services', 'Retails', 'Restaurants', 'Schools',\n",
    "             'Leisure', 'Sport and Fitness', 'Civic Services', 'Transportation', 'Other Landuses']\n",
    "\n",
    "for col in vars_list:\n",
    "    fin_tab = fin_sum_srt[col]\n",
    "    fin_tab['sem'] = 1.96*fin_tab['std']/(fin_tab['size']**0.5)\n",
    "    fin_tab.plot(kind = \"barh\", y = \"mean\", legend = False, xerr = \"sem\", title = col)\n",
    "    plt.xlim(xmin=0)"
   ]
  },
  {
   "cell_type": "markdown",
   "id": "0163a8cb-add1-45bc-9cbe-365e4af55a7b",
   "metadata": {},
   "source": [
    "## CONCLUSION\n",
    "\n",
    "This study collects data and identifies the typologies of Chicago neighborhoods based on socioeconomic factors and built environment features. All neighborhoods are then categorized into five groups. The results show that: \n",
    "\n",
    "• the income disparities are also associated with varying numbers of infrastructure and services in the neighborhood,\n",
    "\n",
    "• the sport and fitness venues, such as basketball courts and activity centers, are notably lacking in low-income neighborhoods,\n",
    "\n",
    "• leisure places, such as parks, are also fewer in the historically disadvantaged area\n",
    "\n",
    "The results suggest public and private investments pay more attention to these areas. Strategic planning and capital investments could narrow the gaps among neighborhoods and improve the quality of life for all urbanites.  \n",
    "\n"
   ]
  },
  {
   "cell_type": "code",
   "execution_count": null,
   "id": "a81c401d-044d-4f73-81f2-4789ca7b9114",
   "metadata": {},
   "outputs": [],
   "source": []
  }
 ],
 "metadata": {
  "kernelspec": {
   "display_name": "Python 3",
   "language": "python",
   "name": "python3"
  },
  "language_info": {
   "codemirror_mode": {
    "name": "ipython",
    "version": 3
   },
   "file_extension": ".py",
   "mimetype": "text/x-python",
   "name": "python",
   "nbconvert_exporter": "python",
   "pygments_lexer": "ipython3",
   "version": "3.9.5"
  }
 },
 "nbformat": 4,
 "nbformat_minor": 5
}
